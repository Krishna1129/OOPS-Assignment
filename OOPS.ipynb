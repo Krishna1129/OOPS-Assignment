{
  "nbformat": 4,
  "nbformat_minor": 0,
  "metadata": {
    "colab": {
      "provenance": [],
      "collapsed_sections": [
        "VaXJKGCn0qCC"
      ]
    },
    "kernelspec": {
      "name": "python3",
      "display_name": "Python 3"
    },
    "language_info": {
      "name": "python"
    }
  },
  "cells": [
    {
      "cell_type": "markdown",
      "source": [
        "#OOPS Assignment"
      ],
      "metadata": {
        "id": "agjAIkMGFQce"
      }
    },
    {
      "cell_type": "markdown",
      "source": [
        "##Theoratical Questions"
      ],
      "metadata": {
        "id": "byisaw-nFQfj"
      }
    },
    {
      "cell_type": "markdown",
      "source": [
        "1. What is Object-Oriented Programming OOP ?\n",
        "   - Object-Oriented Programming OOP is a way to write programs using objects. An object has data and actions, just like real-life things such as a car or a phone.\n",
        "\n",
        "    A class is a blueprint used to create objects. It defines what the object will have and what it can do.\n",
        "\n",
        "    OOP makes code easier to understand, reuse, and manage. It also keeps data safe and lets different parts of the program work together smoothly."
      ],
      "metadata": {
        "id": "yYH3SReoFQko"
      }
    },
    {
      "cell_type": "markdown",
      "source": [
        "2. What is a class in OOP?\n",
        "   - A class in OOP is like a blueprint or design used to make objects. It tells what kind of data the object will have and what actions it can do."
      ],
      "metadata": {
        "id": "WcQ9TT-sFQn4"
      }
    },
    {
      "cell_type": "markdown",
      "source": [
        "3. What is an object in OOP?\n",
        "   - An object in OOP is a real item created using a class. It has its own data and can do actions defined by the class.\n",
        "\n",
        "    For example, if you have a class called Car, you can make an object like car1. This car1 can have its own color and speed, and it can use the actions like drive or stop."
      ],
      "metadata": {
        "id": "LHm-RE1AFQrG"
      }
    },
    {
      "cell_type": "markdown",
      "source": [
        "4. What is the difference between abstraction and encapsulation?\n",
        "   - Abstraction means hiding the complex parts of the code and showing only the important details.\n",
        "    \n",
        "    Encapsulation means keeping the data and code together in one unit, like inside a class. It also protects the data by not allowing direct access from outside the class."
      ],
      "metadata": {
        "id": "MvzlZU8LFQt8"
      }
    },
    {
      "cell_type": "markdown",
      "source": [
        "5. What are dunder methods in Python?\n",
        "   - Dunder methods in Python are special methods that have double underscores at the beginning and end of their names.\n",
        "     \n",
        "    __init__ is a dunder method that runs when you create a new object.\n",
        "\n",
        "    Dunder methods are not meant to be called directly. Python calls them automatically when certain actions happen."
      ],
      "metadata": {
        "id": "Dvn7mkI1FQw5"
      }
    },
    {
      "cell_type": "markdown",
      "source": [
        "6. Explain the concept of inheritance in OOP?\n",
        "  - Inheritance in OOP means one class can use the features of another class. The new class is called the child class, and the class it uses is called the parent class.\n",
        "\n",
        "    The child class gets the data and actions from the parent class and can also have its own. This helps us reuse code and avoid writing the same things again.\n",
        "\n",
        "\n",
        "\n",
        "\n",
        "\n",
        "\n",
        "\n"
      ],
      "metadata": {
        "id": "ttJTkY4aFQzw"
      }
    },
    {
      "cell_type": "markdown",
      "source": [
        "7. What is polymorphism in OOP?\n",
        "  - Polymorphism in OOP means one function or method can work in different ways depending on the object.\n",
        "\n",
        "    For example, a method called speak() might make a dog bark and a cat meow. Even though the method name is the same, the result is different based on the object."
      ],
      "metadata": {
        "id": "zZtbOPnKFQ2l"
      }
    },
    {
      "cell_type": "markdown",
      "source": [
        "8. How is encapsulation achieved in Python?\n",
        "   - Encapsulation in Python is achieved by keeping data and methods inside a class and using access control.\n",
        "\n",
        "    To protect data, we make variables private by adding a single or double underscore before their names, like _name or __age. This tells others not to access them directly from outside the class."
      ],
      "metadata": {
        "id": "zji_A5kVFQ5j"
      }
    },
    {
      "cell_type": "markdown",
      "source": [
        "9. What is a constructor in Python?\n",
        "   - A constructor in Python is a special method that runs automatically when you create a new object from a class. It is used to set up the object with starting values.\n",
        "\n",
        "    In Python, the constructor is written as __init__(). You can add parameters to it so that when you make an object, you can pass values to set up its data."
      ],
      "metadata": {
        "id": "Rrw2zQUGFQ8h"
      }
    },
    {
      "cell_type": "markdown",
      "source": [
        "10. What are class and static methods in Python?\n",
        "    - In Python, class methods and static methods are special types of methods that belong to a class but work differently.\n",
        "\n",
        "      A class method is made using @classmethod. It takes cls as the first parameter instead of self. This means it works with the class itself, not just an object. It can change class-level data that is shared by all objects.\n",
        "\n",
        "      A static method is made using @staticmethod. It does not take self or cls. It behaves like a normal function, but it is placed inside a class because it is related to the class. It cannot change object or class data."
      ],
      "metadata": {
        "id": "G7thW7mRFRBe"
      }
    },
    {
      "cell_type": "markdown",
      "source": [
        "11. What is method overloading in Python?\n",
        "    - Method overloading in Python means having multiple methods with the same name but different number of arguments.\n",
        "\n",
        "      Python does not support method overloading like some other languages. If you define the same method again, the last one will replace the earlier one."
      ],
      "metadata": {
        "id": "RZBwQQx8FREs"
      }
    },
    {
      "cell_type": "markdown",
      "source": [
        "12. What is method overriding in OOP?\n",
        "    - Method overriding in OOP means writing a method in the child class with the same name as in the parent class. When you do this, the child class method replaces the parent class method during program execution.\n",
        "\n",
        "     This allows the child class to change or improve the behavior of a method it inherits. It helps make the program more flexible and lets different classes do the same task in their own way."
      ],
      "metadata": {
        "id": "BReZqgrMFRHi"
      }
    },
    {
      "cell_type": "markdown",
      "source": [
        "13. What is a property decorator in Python?\n",
        "    - A property decorator in Python is used to turn a method into a property. This lets you access the method like a variable, without using parentheses.\n",
        "\n",
        "     It is written using @property above a method. It is helpful when you want to control access to a value, like making it read-only or adding some logic when getting the value."
      ],
      "metadata": {
        "id": "AotqZJnWFRKQ"
      }
    },
    {
      "cell_type": "markdown",
      "source": [
        "14.  Why is polymorphism important in OOP?\n",
        "     - With polymorphism, you can write one function that can work with many types of objects. This helps in reusing code and makes it easier to add new features without changing existing code."
      ],
      "metadata": {
        "id": "bvVXDZjDFRM-"
      }
    },
    {
      "cell_type": "markdown",
      "source": [
        "15. What is an abstract class in Python?\n",
        "    - An abstract class in Python is a blueprint that is not meant to create objects directly. It helps set a common interface for other classes. You create an abstract class using the abc module.\n",
        "\n",
        "     An abstract class can have abstract methods, which are declared but not fully defined. This forces any class that inherits from the abstract class to implement these methods."
      ],
      "metadata": {
        "id": "sAuwXeVnFRP0"
      }
    },
    {
      "cell_type": "markdown",
      "source": [
        "16. What are the advantages of OOP?\n",
        "    - One big advantage is reusability. You can create classes once and use them again and again in different programs. This saves time and reduces errors.\n",
        "\n",
        "     OOP also makes the code more organized by keeping data and actions together in objects. It is easier to understand and manage.\n",
        "\n",
        "     With OOP, you can keep your data safe using encapsulation. Only the right parts of the program can access or change the data.\n",
        "\n",
        "     OOP also supports inheritance, which means one class can use features of another class. This avoids repeating code.\n",
        "\n",
        "     Polymorphism in OOP allows one function to work in different ways, which makes the program more flexible and powerful."
      ],
      "metadata": {
        "id": "i5tSueJwFRTT"
      }
    },
    {
      "cell_type": "markdown",
      "source": [
        "17. What is the difference between a class variable and an instance variable?\n",
        "    - A class variable is shared by all objects of the class. If you change it, the change affects every object.\n",
        "\n",
        "     An instance variable belongs to one object only. Each object has its own copy, and changing it doesn’t affect others."
      ],
      "metadata": {
        "id": "iRrTzrKpFRYv"
      }
    },
    {
      "cell_type": "markdown",
      "source": [
        "18. What is multiple inheritance in Python?\n",
        "    - Multiple inheritance in Python means a class can inherit from more than one parent class at the same time.\n",
        "\n",
        "     This allows the child class to use features from all the parent classes. It helps in reusing more code, but it can also make the program harder to manage if not used carefully.\n",
        "\n",
        "\n",
        "\n",
        "\n",
        "\n",
        "\n",
        "\n",
        "\n"
      ],
      "metadata": {
        "id": "R1erVHLNbHfO"
      }
    },
    {
      "cell_type": "markdown",
      "source": [
        "19. Explain the purpose of ‘’__str__’ and ‘__repr__’ ‘ methods in Python?\n",
        "    - The __str__ method in Python is used to return a readable string when you print an object. It is meant for users and gives a friendly message.\n",
        "\n",
        "     The __repr__ method is used to return a detailed string that shows how to recreate the object. It is meant for developers and helps in debugging.   "
      ],
      "metadata": {
        "id": "ZZNtu7KLbHnw"
      }
    },
    {
      "cell_type": "markdown",
      "source": [
        "20. What is the significance of the ‘super()’ function in Python?\n",
        "    - The super() function in Python is used to call a method from the parent class. It is mostly used inside a child class to use the parent’s methods or constructor.\n",
        "\n",
        "     It helps in reusing code and avoids repeating the same code in both parent and child classes. It also makes the program easier to update and manage."
      ],
      "metadata": {
        "id": "r9MajhazbHsm"
      }
    },
    {
      "cell_type": "markdown",
      "source": [
        "21. What is the significance of the __del__ method in Python?\n",
        "    - The __del__ method in Python is called when an object is about to be deleted. It is known as a destructor.\n",
        "\n",
        "     Its main use is to clean up resources, like closing files or releasing memory, before the object is removed."
      ],
      "metadata": {
        "id": "6wt8TA-lbHwU"
      }
    },
    {
      "cell_type": "markdown",
      "source": [
        "22. What is the difference between @staticmethod and @classmethod in Python?\n",
        "    - The @staticmethod does not take self or cls as a parameter. It works like a normal function but is placed inside a class for better structure. It cannot change object or class data.\n",
        "\n",
        "      The @classmethod takes cls as a parameter and works with the class itself."
      ],
      "metadata": {
        "id": "sfWqKferFRct"
      }
    },
    {
      "cell_type": "markdown",
      "source": [
        "23. How does polymorphism work in Python with inheritance?\n",
        "    - Polymorphism in Python with inheritance works when a child class overrides a method from the parent class, and both methods have the same name.\n",
        "\n",
        "      You can then call the same method name on different objects, and each object will run its own version of the method. This lets one method name work in different ways, depending on the object’s class."
      ],
      "metadata": {
        "id": "OcU7zzuQ0pdv"
      }
    },
    {
      "cell_type": "markdown",
      "source": [
        "24. What is method chaining in Python OOP?\n",
        "    - Method chaining in Python OOP means calling multiple methods on the same object in a single line.\n",
        "    "
      ],
      "metadata": {
        "id": "6A3zEDAB0pmE"
      }
    },
    {
      "cell_type": "markdown",
      "source": [
        "25.  What is the purpose of the __call__ method in Python?\n",
        "     - The __call__ method in Python lets an object act like a function. If a class has this method, you can use its object with parentheses, just like calling a function."
      ],
      "metadata": {
        "id": "_Y9MPXi80p2e"
      }
    },
    {
      "cell_type": "markdown",
      "source": [
        "##Practical Questions"
      ],
      "metadata": {
        "id": "VaXJKGCn0qCC"
      }
    },
    {
      "cell_type": "code",
      "source": [
        "#1. Create a parent class Animal with a method speak() that prints a generic message. Create a child class Dog that overrides the speak() method to print \"Bark!\".\n",
        "class Animal:\n",
        "    def speak(self):\n",
        "        print(\"Animal makes a sound\")\n",
        "\n",
        "class Dog(Animal):\n",
        "    def speak(self):\n",
        "        print(\"Bark!\")\n",
        "\n",
        "a = Animal()\n",
        "a.speak()\n",
        "\n",
        "d = Dog()\n",
        "d.speak()\n"
      ],
      "metadata": {
        "colab": {
          "base_uri": "https://localhost:8080/"
        },
        "id": "lQh9lvpX12Gq",
        "outputId": "3b0532c6-e92e-494d-c869-b43a0103da14"
      },
      "execution_count": 5,
      "outputs": [
        {
          "output_type": "stream",
          "name": "stdout",
          "text": [
            "Animal makes a sound\n",
            "Bark!\n"
          ]
        }
      ]
    },
    {
      "cell_type": "code",
      "source": [
        "#2. 2. Write a program to create an abstract class Shape with a method area(). Derive classes Circle and Rectangle from it and implement the area() method in both.\n",
        "from abc import ABC, abstractmethod\n",
        "\n",
        "class Shape(ABC):\n",
        "    @abstractmethod\n",
        "    def area(self):\n",
        "        pass\n",
        "\n",
        "class Circle(Shape):\n",
        "    def __init__(self, radius):\n",
        "        self.radius = radius\n",
        "\n",
        "    def area(self):\n",
        "        return 3.14 * self.radius * self.radius\n",
        "\n",
        "class Rectangle(Shape):\n",
        "    def __init__(self, length, width):\n",
        "        self.length = length\n",
        "        self.width = width\n",
        "\n",
        "    def area(self):\n",
        "        return self.length * self.width\n",
        "\n",
        "c = Circle(5)\n",
        "print(\"Circle area:\", c.area())\n",
        "\n",
        "r = Rectangle(4, 6)\n",
        "print(\"Rectangle area:\", r.area())\n",
        "\n"
      ],
      "metadata": {
        "colab": {
          "base_uri": "https://localhost:8080/"
        },
        "id": "eoAlkI9Q12EC",
        "outputId": "7128c19c-ca9b-4f03-d9d5-1a220667607d"
      },
      "execution_count": 6,
      "outputs": [
        {
          "output_type": "stream",
          "name": "stdout",
          "text": [
            "Circle area: 78.5\n",
            "Rectangle area: 24\n"
          ]
        }
      ]
    },
    {
      "cell_type": "code",
      "source": [
        "#3. Implement a multi-level inheritance scenario where a class Vehicle has an attribute type. Derive a class Car and further derive a class ElectricCar that adds a battery attribute.\n",
        "class Vehicle:\n",
        "    def __init__(self, type):\n",
        "        self.type = type\n",
        "\n",
        "class Car(Vehicle):\n",
        "    def __init__(self, type, brand):\n",
        "        super().__init__(type)\n",
        "        self.brand = brand\n",
        "\n",
        "class ElectricCar(Car):\n",
        "    def __init__(self, type, brand, battery):\n",
        "        super().__init__(type, brand)\n",
        "        self.battery = battery\n",
        "\n",
        "e = ElectricCar(\"Four Wheeler\", \"Tesla\", \"100 kWh\")\n",
        "print(e.type, e.brand, e.battery)\n",
        "\n"
      ],
      "metadata": {
        "colab": {
          "base_uri": "https://localhost:8080/"
        },
        "id": "yaaASHTY12BF",
        "outputId": "9138eaf9-0e68-4a1e-ff76-0a2ef9b93757"
      },
      "execution_count": 7,
      "outputs": [
        {
          "output_type": "stream",
          "name": "stdout",
          "text": [
            "Four Wheeler Tesla 100 kWh\n"
          ]
        }
      ]
    },
    {
      "cell_type": "code",
      "source": [
        "#4. Demonstrate polymorphism by creating a base class Bird with a method fly(). Create two derived classes Sparrow and Penguin that override the fly() method.\n",
        "class Bird:\n",
        "    def fly(self):\n",
        "        print(\"Bird is flying\")\n",
        "\n",
        "class Sparrow(Bird):\n",
        "    def fly(self):\n",
        "        print(\"Sparrow flies high\")\n",
        "\n",
        "class Penguin(Bird):\n",
        "    def fly(self):\n",
        "        print(\"Penguins cannot fly\")\n",
        "\n",
        "b = Bird()\n",
        "s = Sparrow()\n",
        "p = Penguin()\n",
        "\n",
        "b.fly()\n",
        "s.fly()\n",
        "p.fly()\n",
        "\n",
        "\n"
      ],
      "metadata": {
        "colab": {
          "base_uri": "https://localhost:8080/"
        },
        "id": "_SbnAwOe1194",
        "outputId": "618b839a-c2a4-4845-aac7-a23b6caae565"
      },
      "execution_count": 8,
      "outputs": [
        {
          "output_type": "stream",
          "name": "stdout",
          "text": [
            "Bird is flying\n",
            "Sparrow flies high\n",
            "Penguins cannot fly\n"
          ]
        }
      ]
    },
    {
      "cell_type": "code",
      "source": [
        "#5. Write a program to demonstrate encapsulation by creating a class BankAccount with private attributes balance and methods to deposit, withdraw, and check balance.\n",
        "class BankAccount:\n",
        "    def __init__(self):\n",
        "        self.__balance = 0  # private attribute\n",
        "\n",
        "    def deposit(self, amount):\n",
        "        if amount > 0:\n",
        "            self.__balance += amount\n",
        "\n",
        "    def withdraw(self, amount):\n",
        "        if 0 < amount <= self.__balance:\n",
        "            self.__balance -= amount\n",
        "\n",
        "    def check_balance(self):\n",
        "        return self.__balance\n",
        "\n",
        "acc = BankAccount()\n",
        "acc.deposit(1000)\n",
        "acc.withdraw(300)\n",
        "print(\"Current Balance:\", acc.check_balance())\n",
        "\n"
      ],
      "metadata": {
        "colab": {
          "base_uri": "https://localhost:8080/"
        },
        "id": "pdaCU_sS116-",
        "outputId": "6e7e9a62-f851-4354-d50a-7278bf8f269b"
      },
      "execution_count": 9,
      "outputs": [
        {
          "output_type": "stream",
          "name": "stdout",
          "text": [
            "Current Balance: 700\n"
          ]
        }
      ]
    },
    {
      "cell_type": "code",
      "source": [
        "#6. Demonstrate runtime polymorphism using a method play() in a base class Instrument. Derive classes Guitar and Piano that implement their own version of play().\n",
        "class Instrument:\n",
        "    def play(self):\n",
        "        print(\"Playing an instrument\")\n",
        "\n",
        "class Guitar(Instrument):\n",
        "    def play(self):\n",
        "        print(\"Playing the guitar\")\n",
        "\n",
        "class Piano(Instrument):\n",
        "    def play(self):\n",
        "        print(\"Playing the piano\")\n",
        "\n",
        "instruments = [Guitar(), Piano()]\n",
        "\n",
        "for inst in instruments:\n",
        "    inst.play()\n",
        "\n"
      ],
      "metadata": {
        "colab": {
          "base_uri": "https://localhost:8080/"
        },
        "id": "xg1bVcbi113k",
        "outputId": "0c0e0ade-6a50-4903-912f-57b0774565ee"
      },
      "execution_count": 10,
      "outputs": [
        {
          "output_type": "stream",
          "name": "stdout",
          "text": [
            "Playing the guitar\n",
            "Playing the piano\n"
          ]
        }
      ]
    },
    {
      "cell_type": "code",
      "source": [
        "#7. Create a class MathOperations with a class method add_numbers() to add two numbers and a static method subtract_numbers() to subtract two numbers.\n",
        "class MathOperations:\n",
        "    @classmethod\n",
        "    def add_numbers(cls, a, b):\n",
        "        return a + b\n",
        "\n",
        "    @staticmethod\n",
        "    def subtract_numbers(a, b):\n",
        "        return a - b\n",
        "\n",
        "print(\"Addition:\", MathOperations.add_numbers(5, 3))\n",
        "print(\"Subtraction:\", MathOperations.subtract_numbers(10, 4))\n",
        "\n"
      ],
      "metadata": {
        "colab": {
          "base_uri": "https://localhost:8080/"
        },
        "id": "to5NQgMH110P",
        "outputId": "2bebdb8c-a254-4117-d94a-2fb85e870cc3"
      },
      "execution_count": 11,
      "outputs": [
        {
          "output_type": "stream",
          "name": "stdout",
          "text": [
            "Addition: 8\n",
            "Subtraction: 6\n"
          ]
        }
      ]
    },
    {
      "cell_type": "code",
      "source": [
        "#8. Implement a class Person with a class method to count the total number of persons created.\n",
        "class Person:\n",
        "    count = 0\n",
        "\n",
        "    def __init__(self, name):\n",
        "        self.name = name\n",
        "        Person.count += 1\n",
        "\n",
        "    @classmethod\n",
        "    def total_persons(cls):\n",
        "        return cls.count\n",
        "\n",
        "p1 = Person(\"Alice\")\n",
        "p2 = Person(\"Bob\")\n",
        "print(\"Total persons:\", Person.total_persons())\n"
      ],
      "metadata": {
        "colab": {
          "base_uri": "https://localhost:8080/"
        },
        "id": "-othNFaQ11u1",
        "outputId": "bb8d199a-cc98-403d-fa0e-67fca35db14c"
      },
      "execution_count": 12,
      "outputs": [
        {
          "output_type": "stream",
          "name": "stdout",
          "text": [
            "Total persons: 2\n"
          ]
        }
      ]
    },
    {
      "cell_type": "code",
      "source": [
        "#9. Write a class Fraction with attributes numerator and denominator. Override the str method to display the fraction as \"numerator/denominator\".\n",
        "class Fraction:\n",
        "    def __init__(self, numerator, denominator):\n",
        "        self.numerator = numerator\n",
        "        self.denominator = denominator\n",
        "\n",
        "    def __str__(self):\n",
        "        return f\"{self.numerator}/{self.denominator}\"\n",
        "\n",
        "f = Fraction(3, 4)\n",
        "print(f)\n",
        "\n"
      ],
      "metadata": {
        "colab": {
          "base_uri": "https://localhost:8080/"
        },
        "id": "2hnuTIxr11rj",
        "outputId": "5b337b33-65af-459c-ed62-a968e4d3f949"
      },
      "execution_count": 13,
      "outputs": [
        {
          "output_type": "stream",
          "name": "stdout",
          "text": [
            "3/4\n"
          ]
        }
      ]
    },
    {
      "cell_type": "code",
      "source": [
        "#10. Demonstrate operator overloading by creating a class Vector and overriding the add method to add two vectors.\n",
        "class Vector:\n",
        "    def __init__(self, x, y):\n",
        "        self.x = x\n",
        "        self.y = y\n",
        "\n",
        "    def __add__(self, other):\n",
        "        return Vector(self.x + other.x, self.y + other.y)\n",
        "\n",
        "    def __str__(self):\n",
        "        return f\"({self.x}, {self.y})\"\n",
        "\n",
        "v1 = Vector(2, 3)\n",
        "v2 = Vector(4, 5)\n",
        "v3 = v1 + v2\n",
        "print(\"Result Vector:\", v3)\n",
        "\n"
      ],
      "metadata": {
        "colab": {
          "base_uri": "https://localhost:8080/"
        },
        "id": "ANHcFIyN11oh",
        "outputId": "f8df22f1-5d3b-4992-8dfc-3af2956e7a11"
      },
      "execution_count": 14,
      "outputs": [
        {
          "output_type": "stream",
          "name": "stdout",
          "text": [
            "Result Vector: (6, 8)\n"
          ]
        }
      ]
    },
    {
      "cell_type": "code",
      "source": [
        "#11. Create a class Person with attributes name and age. Add a method greet() that prints \"Hello, my name is {name} and I am {age} years old.\"\n",
        "class Person:\n",
        "    def __init__(self, name, age):\n",
        "        self.name = name\n",
        "        self.age = age\n",
        "\n",
        "    def greet(self):\n",
        "        print(f\"Hello, my name is {self.name} and I am {self.age} years old.\")\n",
        "\n",
        "p = Person(\"Amit\", 25)\n",
        "p.greet()\n",
        "\n"
      ],
      "metadata": {
        "colab": {
          "base_uri": "https://localhost:8080/"
        },
        "id": "aMftw0Kb11lb",
        "outputId": "f6743055-8df7-4d19-933f-5e6d131e0f06"
      },
      "execution_count": 15,
      "outputs": [
        {
          "output_type": "stream",
          "name": "stdout",
          "text": [
            "Hello, my name is Amit and I am 25 years old.\n"
          ]
        }
      ]
    },
    {
      "cell_type": "code",
      "source": [
        "#12. Implement a class Student with attributes name and grades. Create a method average_grade() to compute the average of the grades.\n",
        "class Student:\n",
        "    def __init__(self, name, grades):\n",
        "        self.name = name\n",
        "        self.grades = grades  # list of numbers\n",
        "\n",
        "    def average_grade(self):\n",
        "        return sum(self.grades) / len(self.grades)\n",
        "s = Student(\"Rahul\", [80, 90, 85])\n",
        "print(\"Average Grade:\", s.average_grade())\n",
        "\n"
      ],
      "metadata": {
        "colab": {
          "base_uri": "https://localhost:8080/"
        },
        "id": "Tj-TZHxN11iu",
        "outputId": "5cb9febd-aa4c-48f7-86c1-a2a2500cf7c1"
      },
      "execution_count": 17,
      "outputs": [
        {
          "output_type": "stream",
          "name": "stdout",
          "text": [
            "Average Grade: 85.0\n"
          ]
        }
      ]
    },
    {
      "cell_type": "code",
      "source": [
        "#13. Create a class Rectangle with methods set_dimensions() to set the dimensions and area() to calculate the area.\n",
        "class Rectangle:\n",
        "    def set_dimensions(self, length, width):\n",
        "        self.length = length\n",
        "        self.width = width\n",
        "\n",
        "    def area(self):\n",
        "        return self.length * self.width\n",
        "\n",
        "r = Rectangle()\n",
        "r.set_dimensions(5, 4)\n",
        "print(\"Area of Rectangle:\", r.area())\n",
        "\n"
      ],
      "metadata": {
        "colab": {
          "base_uri": "https://localhost:8080/"
        },
        "id": "GftZL5S-11fv",
        "outputId": "11f4c512-e997-4b20-fbdf-946dfb592e49"
      },
      "execution_count": 18,
      "outputs": [
        {
          "output_type": "stream",
          "name": "stdout",
          "text": [
            "Area of Rectangle: 20\n"
          ]
        }
      ]
    },
    {
      "cell_type": "code",
      "source": [
        "#14. Create a class Employee with a method calculate_salary() that computes the salary based on hours worked and hourly rate. Create a derived class Manager that adds a bonus to the salary\n",
        "class Employee:\n",
        "    def __init__(self, hours, rate):\n",
        "        self.hours = hours\n",
        "        self.rate = rate\n",
        "\n",
        "    def calculate_salary(self):\n",
        "        return self.hours * self.rate\n",
        "\n",
        "class Manager(Employee):\n",
        "    def __init__(self, hours, rate, bonus):\n",
        "        super().__init__(hours, rate)\n",
        "        self.bonus = bonus\n",
        "\n",
        "    def calculate_salary(self):\n",
        "        return super().calculate_salary() + self.bonus\n",
        "\n",
        "e = Employee(40, 100)\n",
        "print(\"Employee Salary:\", e.calculate_salary())\n",
        "\n",
        "m = Manager(40, 100, 500)\n",
        "print(\"Manager Salary:\", m.calculate_salary())\n",
        "\n"
      ],
      "metadata": {
        "colab": {
          "base_uri": "https://localhost:8080/"
        },
        "id": "dlrINumY11ch",
        "outputId": "286bd7ef-ef7d-4259-a78e-b717731eb1c4"
      },
      "execution_count": 19,
      "outputs": [
        {
          "output_type": "stream",
          "name": "stdout",
          "text": [
            "Employee Salary: 4000\n",
            "Manager Salary: 4500\n"
          ]
        }
      ]
    },
    {
      "cell_type": "code",
      "source": [
        "#15. Create a class Product with attributes name, price, and quantity. Implement a method total_price() that calculates the total price of the product.\n",
        "class Product:\n",
        "    def __init__(self, name, price, quantity):\n",
        "        self.name = name\n",
        "        self.price = price\n",
        "        self.quantity = quantity\n",
        "\n",
        "    def total_price(self):\n",
        "        return self.price * self.quantity\n",
        "\n",
        "p = Product(\"Laptop\", 50000, 2)\n",
        "print(\"Total Price:\", p.total_price())\n",
        "\n"
      ],
      "metadata": {
        "colab": {
          "base_uri": "https://localhost:8080/"
        },
        "id": "2iXo-5Fw8kvU",
        "outputId": "0db4c375-6e84-4405-c006-a9924e037f53"
      },
      "execution_count": 20,
      "outputs": [
        {
          "output_type": "stream",
          "name": "stdout",
          "text": [
            "Total Price: 100000\n"
          ]
        }
      ]
    },
    {
      "cell_type": "code",
      "source": [
        "#16. Create a class Animal with an abstract method sound(). Create two derived classes Cow and Sheep that implement the sound() method.\n",
        "from abc import ABC, abstractmethod\n",
        "\n",
        "class Animal(ABC):\n",
        "    @abstractmethod\n",
        "    def sound(self):\n",
        "        pass\n",
        "\n",
        "class Cow(Animal):\n",
        "    def sound(self):\n",
        "        print(\"Moo\")\n",
        "\n",
        "class Sheep(Animal):\n",
        "    def sound(self):\n",
        "        print(\"Baa\")\n",
        "\n",
        "c = Cow()\n",
        "s = Sheep()\n",
        "c.sound()\n",
        "s.sound()\n",
        "\n"
      ],
      "metadata": {
        "colab": {
          "base_uri": "https://localhost:8080/"
        },
        "id": "vjAA6VKz11XE",
        "outputId": "a5b1b9be-c2ee-4f98-d5e2-113858229d2c"
      },
      "execution_count": 21,
      "outputs": [
        {
          "output_type": "stream",
          "name": "stdout",
          "text": [
            "Moo\n",
            "Baa\n"
          ]
        }
      ]
    },
    {
      "cell_type": "code",
      "source": [
        "#17. Create a class Book with attributes title, author, and year_published. Add a method get_book_info() that returns a formatted string with the book's details.\n",
        "class Book:\n",
        "    def __init__(self, title, author, year_published):\n",
        "        self.title = title\n",
        "        self.author = author\n",
        "        self.year_published = year_published\n",
        "\n",
        "    def get_book_info(self):\n",
        "        return f\"'{self.title}' by {self.author}, published in {self.year_published}\"\n",
        "\n",
        "b = Book(\"The Alchemist\", \"Paulo Coelho\", 1988)\n",
        "print(b.get_book_info())\n",
        "\n"
      ],
      "metadata": {
        "colab": {
          "base_uri": "https://localhost:8080/"
        },
        "id": "MSiGws1d11PR",
        "outputId": "0dcebff8-9436-4ec5-82a8-b379b7b2e108"
      },
      "execution_count": 22,
      "outputs": [
        {
          "output_type": "stream",
          "name": "stdout",
          "text": [
            "'The Alchemist' by Paulo Coelho, published in 1988\n"
          ]
        }
      ]
    },
    {
      "cell_type": "code",
      "source": [
        "#18. Create a class House with attributes address and price. Create a derived class Mansion that adds an attribute number_of_rooms.\n",
        "class House:\n",
        "    def __init__(self, address, price):\n",
        "        self.address = address\n",
        "        self.price = price\n",
        "\n",
        "class Mansion(House):\n",
        "    def __init__(self, address, price, number_of_rooms):\n",
        "        super().__init__(address, price)\n",
        "        self.number_of_rooms = number_of_rooms\n",
        "\n",
        "m = Mansion(\"123 Luxury Lane\", 10000000, 10)\n",
        "print(\"Address:\", m.address)\n",
        "print(\"Price:\", m.price)\n",
        "print(\"Rooms:\", m.number_of_rooms)\n",
        "\n",
        ""
      ],
      "metadata": {
        "colab": {
          "base_uri": "https://localhost:8080/"
        },
        "id": "GVUF1z2M11GC",
        "outputId": "946b85cf-b02c-47c3-e5e5-3fad4f3e2933"
      },
      "execution_count": 23,
      "outputs": [
        {
          "output_type": "stream",
          "name": "stdout",
          "text": [
            "Address: 123 Luxury Lane\n",
            "Price: 10000000\n",
            "Rooms: 10\n"
          ]
        }
      ]
    }
  ]
}